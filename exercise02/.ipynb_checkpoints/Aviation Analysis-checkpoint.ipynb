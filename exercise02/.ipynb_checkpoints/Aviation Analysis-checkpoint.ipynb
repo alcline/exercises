{
 "cells": [
  {
   "cell_type": "markdown",
   "metadata": {},
   "source": [
    "## Aviation Analysis \n",
    "Author: Ashleigh Cline\n",
    "\n",
    "### Background\n",
    "The purpose of this analysis is to serve as a data exploration exercise. The data is taken from the National Transportation Safety Board's database of aviation accidents and is provided in two formats: An xml file of the accident attributes and json files containing the narrative and probable cause.  \n",
    "\n",
    "The results from the exploration can be found in the \"Aviation Summary\" document."
   ]
  },
  {
   "cell_type": "markdown",
   "metadata": {},
   "source": [
    "### Setup\n",
    "    - Import necessary libraries\n",
    "    - Establish path to data"
   ]
  },
  {
   "cell_type": "code",
   "execution_count": 104,
   "metadata": {
    "collapsed": false
   },
   "outputs": [],
   "source": [
    "import xmltodict, os, json, nltk\n",
    "import pandas as pd\n",
    "import numpy as np\n",
    "import matplotlib.pyplot as plt\n",
    "%matplotlib inline\n",
    "from mpl_toolkits.basemap import Basemap\n",
    "from nltk.corpus import stopwords"
   ]
  },
  {
   "cell_type": "code",
   "execution_count": 4,
   "metadata": {
    "collapsed": true
   },
   "outputs": [],
   "source": [
    "path = '/Users/ascline/GitHub/RTI-exercises/exercise02/data'"
   ]
  },
  {
   "cell_type": "markdown",
   "metadata": {},
   "source": [
    "### Examine the Data\n",
    "\n",
    "First, I'll turn the AviationData.xml file into a dictionary so that I can examine the data's structure. "
   ]
  },
  {
   "cell_type": "code",
   "execution_count": 5,
   "metadata": {
    "collapsed": true
   },
   "outputs": [],
   "source": [
    "with open(os.path.join(path,'AviationData.xml')) as f:\n",
    "    xml = xmltodict.parse(f.read())"
   ]
  },
  {
   "cell_type": "code",
   "execution_count": 6,
   "metadata": {
    "collapsed": false
   },
   "outputs": [
    {
     "data": {
      "text/plain": [
       "odict_keys(['DATA'])"
      ]
     },
     "execution_count": 6,
     "metadata": {},
     "output_type": "execute_result"
    }
   ],
   "source": [
    "xml.keys()"
   ]
  },
  {
   "cell_type": "code",
   "execution_count": 7,
   "metadata": {
    "collapsed": false
   },
   "outputs": [
    {
     "data": {
      "text/plain": [
       "odict_keys(['@xmlns', 'ROWS'])"
      ]
     },
     "execution_count": 7,
     "metadata": {},
     "output_type": "execute_result"
    }
   ],
   "source": [
    "xml['DATA'].keys()"
   ]
  },
  {
   "cell_type": "code",
   "execution_count": 8,
   "metadata": {
    "collapsed": false
   },
   "outputs": [
    {
     "data": {
      "text/plain": [
       "odict_keys(['ROW'])"
      ]
     },
     "execution_count": 8,
     "metadata": {},
     "output_type": "execute_result"
    }
   ],
   "source": [
    "xml['DATA']['ROWS'].keys()"
   ]
  },
  {
   "cell_type": "code",
   "execution_count": 9,
   "metadata": {
    "collapsed": false
   },
   "outputs": [
    {
     "data": {
      "text/plain": [
       "OrderedDict([('@EventId', '20150901X74304'),\n",
       "             ('@InvestigationType', 'Accident'),\n",
       "             ('@AccidentNumber', 'GAA15CA244'),\n",
       "             ('@EventDate', '09/01/2015'),\n",
       "             ('@Location', 'Truckee, CA'),\n",
       "             ('@Country', 'United States'),\n",
       "             ('@Latitude', ''),\n",
       "             ('@Longitude', ''),\n",
       "             ('@AirportCode', ''),\n",
       "             ('@AirportName', ''),\n",
       "             ('@InjurySeverity', ''),\n",
       "             ('@AircraftDamage', ''),\n",
       "             ('@AircraftCategory', ''),\n",
       "             ('@RegistrationNumber', 'N786AB'),\n",
       "             ('@Make', 'JOE SALOMONE'),\n",
       "             ('@Model', 'SUPER CUB SQ2'),\n",
       "             ('@AmateurBuilt', ''),\n",
       "             ('@NumberOfEngines', ''),\n",
       "             ('@EngineType', ''),\n",
       "             ('@FARDescription', ''),\n",
       "             ('@Schedule', ''),\n",
       "             ('@PurposeOfFlight', ''),\n",
       "             ('@AirCarrier', ''),\n",
       "             ('@TotalFatalInjuries', ''),\n",
       "             ('@TotalSeriousInjuries', ''),\n",
       "             ('@TotalMinorInjuries', ''),\n",
       "             ('@TotalUninjured', ''),\n",
       "             ('@WeatherCondition', ''),\n",
       "             ('@BroadPhaseOfFlight', ''),\n",
       "             ('@ReportStatus', 'Preliminary'),\n",
       "             ('@PublicationDate', '')])"
      ]
     },
     "execution_count": 9,
     "metadata": {},
     "output_type": "execute_result"
    }
   ],
   "source": [
    "xml['DATA']['ROWS']['ROW'][0]"
   ]
  },
  {
   "cell_type": "markdown",
   "metadata": {},
   "source": [
    "Now that I know where the data is located within the dictionary, I'm going to transform it into a pandas dataframe and see how many aviation accidents I'm working with."
   ]
  },
  {
   "cell_type": "code",
   "execution_count": 10,
   "metadata": {
    "collapsed": false
   },
   "outputs": [
    {
     "name": "stdout",
     "output_type": "stream",
     "text": [
      "77257\n"
     ]
    },
    {
     "data": {
      "text/html": [
       "<div>\n",
       "<table border=\"1\" class=\"dataframe\">\n",
       "  <thead>\n",
       "    <tr style=\"text-align: right;\">\n",
       "      <th></th>\n",
       "      <th>@AccidentNumber</th>\n",
       "      <th>@AirCarrier</th>\n",
       "      <th>@AircraftCategory</th>\n",
       "      <th>@AircraftDamage</th>\n",
       "      <th>@AirportCode</th>\n",
       "      <th>@AirportName</th>\n",
       "      <th>@AmateurBuilt</th>\n",
       "      <th>@BroadPhaseOfFlight</th>\n",
       "      <th>@Country</th>\n",
       "      <th>@EngineType</th>\n",
       "      <th>...</th>\n",
       "      <th>@PublicationDate</th>\n",
       "      <th>@PurposeOfFlight</th>\n",
       "      <th>@RegistrationNumber</th>\n",
       "      <th>@ReportStatus</th>\n",
       "      <th>@Schedule</th>\n",
       "      <th>@TotalFatalInjuries</th>\n",
       "      <th>@TotalMinorInjuries</th>\n",
       "      <th>@TotalSeriousInjuries</th>\n",
       "      <th>@TotalUninjured</th>\n",
       "      <th>@WeatherCondition</th>\n",
       "    </tr>\n",
       "  </thead>\n",
       "  <tbody>\n",
       "    <tr>\n",
       "      <th>0</th>\n",
       "      <td>GAA15CA244</td>\n",
       "      <td></td>\n",
       "      <td></td>\n",
       "      <td></td>\n",
       "      <td></td>\n",
       "      <td></td>\n",
       "      <td></td>\n",
       "      <td></td>\n",
       "      <td>United States</td>\n",
       "      <td></td>\n",
       "      <td>...</td>\n",
       "      <td></td>\n",
       "      <td></td>\n",
       "      <td>N786AB</td>\n",
       "      <td>Preliminary</td>\n",
       "      <td></td>\n",
       "      <td></td>\n",
       "      <td></td>\n",
       "      <td></td>\n",
       "      <td></td>\n",
       "      <td></td>\n",
       "    </tr>\n",
       "    <tr>\n",
       "      <th>1</th>\n",
       "      <td>CEN15LA392</td>\n",
       "      <td></td>\n",
       "      <td>Airplane</td>\n",
       "      <td>Substantial</td>\n",
       "      <td>IWS</td>\n",
       "      <td>WEST HOUSTON</td>\n",
       "      <td>No</td>\n",
       "      <td>LANDING</td>\n",
       "      <td>United States</td>\n",
       "      <td></td>\n",
       "      <td>...</td>\n",
       "      <td>09/04/2015</td>\n",
       "      <td>Instructional</td>\n",
       "      <td>N452CS</td>\n",
       "      <td>Preliminary</td>\n",
       "      <td></td>\n",
       "      <td></td>\n",
       "      <td></td>\n",
       "      <td></td>\n",
       "      <td>2</td>\n",
       "      <td>VMC</td>\n",
       "    </tr>\n",
       "    <tr>\n",
       "      <th>2</th>\n",
       "      <td>GAA15CA246</td>\n",
       "      <td></td>\n",
       "      <td></td>\n",
       "      <td></td>\n",
       "      <td></td>\n",
       "      <td></td>\n",
       "      <td></td>\n",
       "      <td></td>\n",
       "      <td>United States</td>\n",
       "      <td></td>\n",
       "      <td>...</td>\n",
       "      <td></td>\n",
       "      <td></td>\n",
       "      <td>N112RP</td>\n",
       "      <td>Preliminary</td>\n",
       "      <td></td>\n",
       "      <td></td>\n",
       "      <td></td>\n",
       "      <td></td>\n",
       "      <td></td>\n",
       "      <td></td>\n",
       "    </tr>\n",
       "    <tr>\n",
       "      <th>3</th>\n",
       "      <td>GAA15CA243</td>\n",
       "      <td></td>\n",
       "      <td></td>\n",
       "      <td></td>\n",
       "      <td></td>\n",
       "      <td></td>\n",
       "      <td></td>\n",
       "      <td></td>\n",
       "      <td>United States</td>\n",
       "      <td></td>\n",
       "      <td>...</td>\n",
       "      <td></td>\n",
       "      <td></td>\n",
       "      <td>N8404X</td>\n",
       "      <td>Preliminary</td>\n",
       "      <td></td>\n",
       "      <td></td>\n",
       "      <td></td>\n",
       "      <td></td>\n",
       "      <td></td>\n",
       "      <td></td>\n",
       "    </tr>\n",
       "    <tr>\n",
       "      <th>4</th>\n",
       "      <td>GAA15CA242</td>\n",
       "      <td></td>\n",
       "      <td></td>\n",
       "      <td></td>\n",
       "      <td></td>\n",
       "      <td></td>\n",
       "      <td></td>\n",
       "      <td></td>\n",
       "      <td>United States</td>\n",
       "      <td></td>\n",
       "      <td>...</td>\n",
       "      <td></td>\n",
       "      <td></td>\n",
       "      <td>N5255G</td>\n",
       "      <td>Preliminary</td>\n",
       "      <td></td>\n",
       "      <td></td>\n",
       "      <td></td>\n",
       "      <td></td>\n",
       "      <td></td>\n",
       "      <td></td>\n",
       "    </tr>\n",
       "    <tr>\n",
       "      <th>5</th>\n",
       "      <td>WPR15LA253B</td>\n",
       "      <td></td>\n",
       "      <td>Airplane</td>\n",
       "      <td>Minor</td>\n",
       "      <td>LAS</td>\n",
       "      <td>McCarran International</td>\n",
       "      <td>No</td>\n",
       "      <td>STANDING</td>\n",
       "      <td>United States</td>\n",
       "      <td>Turbo Jet</td>\n",
       "      <td>...</td>\n",
       "      <td>09/03/2015</td>\n",
       "      <td>Business</td>\n",
       "      <td>N187AA</td>\n",
       "      <td>Preliminary</td>\n",
       "      <td></td>\n",
       "      <td></td>\n",
       "      <td></td>\n",
       "      <td></td>\n",
       "      <td>5</td>\n",
       "      <td>VMC</td>\n",
       "    </tr>\n",
       "    <tr>\n",
       "      <th>6</th>\n",
       "      <td>WPR15LA253A</td>\n",
       "      <td></td>\n",
       "      <td>Airplane</td>\n",
       "      <td>Substantial</td>\n",
       "      <td>LAS</td>\n",
       "      <td>McCarran International</td>\n",
       "      <td>No</td>\n",
       "      <td>STANDING</td>\n",
       "      <td>United States</td>\n",
       "      <td>Turbo Prop</td>\n",
       "      <td>...</td>\n",
       "      <td>09/03/2015</td>\n",
       "      <td>Business</td>\n",
       "      <td>N959MC</td>\n",
       "      <td>Preliminary</td>\n",
       "      <td></td>\n",
       "      <td></td>\n",
       "      <td></td>\n",
       "      <td></td>\n",
       "      <td>5</td>\n",
       "      <td>VMC</td>\n",
       "    </tr>\n",
       "    <tr>\n",
       "      <th>7</th>\n",
       "      <td>CEN15LA387</td>\n",
       "      <td></td>\n",
       "      <td>Helicopter</td>\n",
       "      <td>Substantial</td>\n",
       "      <td>KCYS</td>\n",
       "      <td>Cheyenne Regional/Jerry Olson</td>\n",
       "      <td>No</td>\n",
       "      <td>LANDING</td>\n",
       "      <td>United States</td>\n",
       "      <td>Reciprocating</td>\n",
       "      <td>...</td>\n",
       "      <td>09/01/2015</td>\n",
       "      <td>Business</td>\n",
       "      <td>N440SA</td>\n",
       "      <td>Preliminary</td>\n",
       "      <td></td>\n",
       "      <td></td>\n",
       "      <td>3</td>\n",
       "      <td>3</td>\n",
       "      <td></td>\n",
       "      <td>VMC</td>\n",
       "    </tr>\n",
       "    <tr>\n",
       "      <th>8</th>\n",
       "      <td>WPR15LA251</td>\n",
       "      <td></td>\n",
       "      <td>Airplane</td>\n",
       "      <td>Substantial</td>\n",
       "      <td>SQL</td>\n",
       "      <td>SAN CARLOS</td>\n",
       "      <td>No</td>\n",
       "      <td>TAKEOFF</td>\n",
       "      <td>United States</td>\n",
       "      <td></td>\n",
       "      <td>...</td>\n",
       "      <td>09/03/2015</td>\n",
       "      <td>Personal</td>\n",
       "      <td>N919E</td>\n",
       "      <td>Preliminary</td>\n",
       "      <td></td>\n",
       "      <td></td>\n",
       "      <td></td>\n",
       "      <td></td>\n",
       "      <td>1</td>\n",
       "      <td>VMC</td>\n",
       "    </tr>\n",
       "    <tr>\n",
       "      <th>9</th>\n",
       "      <td>WPR15IA252</td>\n",
       "      <td></td>\n",
       "      <td>Airplane</td>\n",
       "      <td>Minor</td>\n",
       "      <td>SDL</td>\n",
       "      <td>Scottsdale</td>\n",
       "      <td>No</td>\n",
       "      <td>LANDING</td>\n",
       "      <td>United States</td>\n",
       "      <td>Reciprocating</td>\n",
       "      <td>...</td>\n",
       "      <td>09/03/2015</td>\n",
       "      <td>Instructional</td>\n",
       "      <td>N915TD</td>\n",
       "      <td>Preliminary</td>\n",
       "      <td></td>\n",
       "      <td></td>\n",
       "      <td></td>\n",
       "      <td></td>\n",
       "      <td>3</td>\n",
       "      <td>VMC</td>\n",
       "    </tr>\n",
       "  </tbody>\n",
       "</table>\n",
       "<p>10 rows × 31 columns</p>\n",
       "</div>"
      ],
      "text/plain": [
       "  @AccidentNumber @AirCarrier @AircraftCategory @AircraftDamage @AirportCode  \\\n",
       "0      GAA15CA244                                                              \n",
       "1      CEN15LA392                      Airplane     Substantial          IWS   \n",
       "2      GAA15CA246                                                              \n",
       "3      GAA15CA243                                                              \n",
       "4      GAA15CA242                                                              \n",
       "5     WPR15LA253B                      Airplane           Minor          LAS   \n",
       "6     WPR15LA253A                      Airplane     Substantial          LAS   \n",
       "7      CEN15LA387                    Helicopter     Substantial         KCYS   \n",
       "8      WPR15LA251                      Airplane     Substantial          SQL   \n",
       "9      WPR15IA252                      Airplane           Minor          SDL   \n",
       "\n",
       "                    @AirportName @AmateurBuilt @BroadPhaseOfFlight  \\\n",
       "0                                                                    \n",
       "1                   WEST HOUSTON            No             LANDING   \n",
       "2                                                                    \n",
       "3                                                                    \n",
       "4                                                                    \n",
       "5         McCarran International            No            STANDING   \n",
       "6         McCarran International            No            STANDING   \n",
       "7  Cheyenne Regional/Jerry Olson            No             LANDING   \n",
       "8                     SAN CARLOS            No             TAKEOFF   \n",
       "9                     Scottsdale            No             LANDING   \n",
       "\n",
       "        @Country    @EngineType        ...        @PublicationDate  \\\n",
       "0  United States                       ...                           \n",
       "1  United States                       ...              09/04/2015   \n",
       "2  United States                       ...                           \n",
       "3  United States                       ...                           \n",
       "4  United States                       ...                           \n",
       "5  United States      Turbo Jet        ...              09/03/2015   \n",
       "6  United States     Turbo Prop        ...              09/03/2015   \n",
       "7  United States  Reciprocating        ...              09/01/2015   \n",
       "8  United States                       ...              09/03/2015   \n",
       "9  United States  Reciprocating        ...              09/03/2015   \n",
       "\n",
       "  @PurposeOfFlight @RegistrationNumber @ReportStatus @Schedule  \\\n",
       "0                               N786AB   Preliminary             \n",
       "1    Instructional              N452CS   Preliminary             \n",
       "2                               N112RP   Preliminary             \n",
       "3                               N8404X   Preliminary             \n",
       "4                               N5255G   Preliminary             \n",
       "5         Business              N187AA   Preliminary             \n",
       "6         Business              N959MC   Preliminary             \n",
       "7         Business              N440SA   Preliminary             \n",
       "8         Personal               N919E   Preliminary             \n",
       "9    Instructional              N915TD   Preliminary             \n",
       "\n",
       "  @TotalFatalInjuries @TotalMinorInjuries @TotalSeriousInjuries  \\\n",
       "0                                                                 \n",
       "1                                                                 \n",
       "2                                                                 \n",
       "3                                                                 \n",
       "4                                                                 \n",
       "5                                                                 \n",
       "6                                                                 \n",
       "7                                       3                     3   \n",
       "8                                                                 \n",
       "9                                                                 \n",
       "\n",
       "  @TotalUninjured @WeatherCondition  \n",
       "0                                    \n",
       "1               2               VMC  \n",
       "2                                    \n",
       "3                                    \n",
       "4                                    \n",
       "5               5               VMC  \n",
       "6               5               VMC  \n",
       "7                               VMC  \n",
       "8               1               VMC  \n",
       "9               3               VMC  \n",
       "\n",
       "[10 rows x 31 columns]"
      ]
     },
     "execution_count": 10,
     "metadata": {},
     "output_type": "execute_result"
    }
   ],
   "source": [
    "rows = []\n",
    "for row in xml['DATA']['ROWS']['ROW']:\n",
    "    rows.append(row)\n",
    "    \n",
    "xml_df = pd.DataFrame(rows)\n",
    "print(len(xml_df))\n",
    "xml_df.head(10)"
   ]
  },
  {
   "cell_type": "markdown",
   "metadata": {},
   "source": [
    "Next, I need to read in our json files and turn those into a pandas dataframe as well. There are 144 json files so each file is accessed within a loop and the data appended to a list before creating the dataframe. "
   ]
  },
  {
   "cell_type": "code",
   "execution_count": 11,
   "metadata": {
    "collapsed": false
   },
   "outputs": [],
   "source": [
    "json_files = [json_file for json_file in os.listdir(path) if json_file.endswith('.json')]\n",
    "# print(json_files)"
   ]
  },
  {
   "cell_type": "code",
   "execution_count": 12,
   "metadata": {
    "collapsed": false
   },
   "outputs": [
    {
     "name": "stdout",
     "output_type": "stream",
     "text": [
      "76133\n"
     ]
    },
    {
     "data": {
      "text/html": [
       "<div>\n",
       "<table border=\"1\" class=\"dataframe\">\n",
       "  <thead>\n",
       "    <tr style=\"text-align: right;\">\n",
       "      <th></th>\n",
       "      <th>EventId</th>\n",
       "      <th>narrative</th>\n",
       "      <th>probable_cause</th>\n",
       "    </tr>\n",
       "  </thead>\n",
       "  <tbody>\n",
       "    <tr>\n",
       "      <th>0</th>\n",
       "      <td>20070804X01107</td>\n",
       "      <td>NTSB investigators may not have traveled in su...</td>\n",
       "      <td>the pilot's failure to maintain clearance with...</td>\n",
       "    </tr>\n",
       "    <tr>\n",
       "      <th>1</th>\n",
       "      <td>20001208X09357</td>\n",
       "      <td>NTSB investigators either traveled in support ...</td>\n",
       "      <td>The pilot's failure to maintain adequate airsp...</td>\n",
       "    </tr>\n",
       "    <tr>\n",
       "      <th>2</th>\n",
       "      <td>20001212X23867</td>\n",
       "      <td>NTSB investigators may not have traveled in su...</td>\n",
       "      <td>FAILURE OF THE FREE TURBINE INTERMEDIATE PINIO...</td>\n",
       "    </tr>\n",
       "    <tr>\n",
       "      <th>3</th>\n",
       "      <td>20001214X37502</td>\n",
       "      <td>NTSB investigators may not have traveled in su...</td>\n",
       "      <td></td>\n",
       "    </tr>\n",
       "    <tr>\n",
       "      <th>4</th>\n",
       "      <td>20001206X02609</td>\n",
       "      <td>NTSB investigators either traveled in support ...</td>\n",
       "      <td>Improper loading of the airplane.  Contributin...</td>\n",
       "    </tr>\n",
       "    <tr>\n",
       "      <th>5</th>\n",
       "      <td>20001211X14610</td>\n",
       "      <td>THE ACCIDENT AIRPLANE SUSTAINED A COMPLETE LO...</td>\n",
       "      <td>THE PILOT'S IMPROPER PREFLIGHT PLANNING/PREPA...</td>\n",
       "    </tr>\n",
       "    <tr>\n",
       "      <th>6</th>\n",
       "      <td>20001214X36086</td>\n",
       "      <td>NTSB investigators may not have traveled in su...</td>\n",
       "      <td></td>\n",
       "    </tr>\n",
       "    <tr>\n",
       "      <th>7</th>\n",
       "      <td>20001212X18967</td>\n",
       "      <td>The foreign authority was the source of this i...</td>\n",
       "      <td></td>\n",
       "    </tr>\n",
       "    <tr>\n",
       "      <th>8</th>\n",
       "      <td>20060814X01163</td>\n",
       "      <td>NTSB investigators used data provided by vario...</td>\n",
       "      <td>The pilot inadvertently pulled back on the cyc...</td>\n",
       "    </tr>\n",
       "    <tr>\n",
       "      <th>9</th>\n",
       "      <td>20111003X42104</td>\n",
       "      <td>NTSB investigators used data provided by vario...</td>\n",
       "      <td>The pilot's failure to maintain directional co...</td>\n",
       "    </tr>\n",
       "  </tbody>\n",
       "</table>\n",
       "</div>"
      ],
      "text/plain": [
       "          EventId                                          narrative  \\\n",
       "0  20070804X01107  NTSB investigators may not have traveled in su...   \n",
       "1  20001208X09357  NTSB investigators either traveled in support ...   \n",
       "2  20001212X23867  NTSB investigators may not have traveled in su...   \n",
       "3  20001214X37502  NTSB investigators may not have traveled in su...   \n",
       "4  20001206X02609  NTSB investigators either traveled in support ...   \n",
       "5  20001211X14610   THE ACCIDENT AIRPLANE SUSTAINED A COMPLETE LO...   \n",
       "6  20001214X36086  NTSB investigators may not have traveled in su...   \n",
       "7  20001212X18967  The foreign authority was the source of this i...   \n",
       "8  20060814X01163  NTSB investigators used data provided by vario...   \n",
       "9  20111003X42104  NTSB investigators used data provided by vario...   \n",
       "\n",
       "                                      probable_cause  \n",
       "0  the pilot's failure to maintain clearance with...  \n",
       "1  The pilot's failure to maintain adequate airsp...  \n",
       "2  FAILURE OF THE FREE TURBINE INTERMEDIATE PINIO...  \n",
       "3                                                     \n",
       "4  Improper loading of the airplane.  Contributin...  \n",
       "5   THE PILOT'S IMPROPER PREFLIGHT PLANNING/PREPA...  \n",
       "6                                                     \n",
       "7                                                     \n",
       "8  The pilot inadvertently pulled back on the cyc...  \n",
       "9  The pilot's failure to maintain directional co...  "
      ]
     },
     "execution_count": 12,
     "metadata": {},
     "output_type": "execute_result"
    }
   ],
   "source": [
    "json_data = []\n",
    "\n",
    "for js in json_files:\n",
    "    with open(os.path.join(path, js)) as myfile:\n",
    "        my_string = myfile.read()\n",
    "        js_data = json.loads(my_string)\n",
    "        for row in js_data['data']:\n",
    "            json_data.append(row)\n",
    "            \n",
    "json_df = pd.DataFrame(json_data)\n",
    "print(len(json_df))\n",
    "json_df.head(10)"
   ]
  },
  {
   "cell_type": "markdown",
   "metadata": {},
   "source": [
    "Finally, I'll merge the xml dataframe with the json dataframe on EventId to create a single table for analysis. "
   ]
  },
  {
   "cell_type": "code",
   "execution_count": 14,
   "metadata": {
    "collapsed": false
   },
   "outputs": [
    {
     "name": "stdout",
     "output_type": "stream",
     "text": [
      "77257\n"
     ]
    },
    {
     "data": {
      "text/html": [
       "<div>\n",
       "<table border=\"1\" class=\"dataframe\">\n",
       "  <thead>\n",
       "    <tr style=\"text-align: right;\">\n",
       "      <th></th>\n",
       "      <th>@AccidentNumber</th>\n",
       "      <th>@AirCarrier</th>\n",
       "      <th>@AircraftCategory</th>\n",
       "      <th>@AircraftDamage</th>\n",
       "      <th>@AirportCode</th>\n",
       "      <th>@AirportName</th>\n",
       "      <th>@AmateurBuilt</th>\n",
       "      <th>@BroadPhaseOfFlight</th>\n",
       "      <th>@Country</th>\n",
       "      <th>@EngineType</th>\n",
       "      <th>...</th>\n",
       "      <th>@ReportStatus</th>\n",
       "      <th>@Schedule</th>\n",
       "      <th>@TotalFatalInjuries</th>\n",
       "      <th>@TotalMinorInjuries</th>\n",
       "      <th>@TotalSeriousInjuries</th>\n",
       "      <th>@TotalUninjured</th>\n",
       "      <th>@WeatherCondition</th>\n",
       "      <th>EventId</th>\n",
       "      <th>narrative</th>\n",
       "      <th>probable_cause</th>\n",
       "    </tr>\n",
       "  </thead>\n",
       "  <tbody>\n",
       "    <tr>\n",
       "      <th>0</th>\n",
       "      <td>GAA15CA244</td>\n",
       "      <td></td>\n",
       "      <td></td>\n",
       "      <td></td>\n",
       "      <td></td>\n",
       "      <td></td>\n",
       "      <td></td>\n",
       "      <td></td>\n",
       "      <td>United States</td>\n",
       "      <td></td>\n",
       "      <td>...</td>\n",
       "      <td>Preliminary</td>\n",
       "      <td></td>\n",
       "      <td></td>\n",
       "      <td></td>\n",
       "      <td></td>\n",
       "      <td></td>\n",
       "      <td></td>\n",
       "      <td>20150901X74304</td>\n",
       "      <td></td>\n",
       "      <td></td>\n",
       "    </tr>\n",
       "    <tr>\n",
       "      <th>1</th>\n",
       "      <td>CEN15LA392</td>\n",
       "      <td></td>\n",
       "      <td>Airplane</td>\n",
       "      <td>Substantial</td>\n",
       "      <td>IWS</td>\n",
       "      <td>WEST HOUSTON</td>\n",
       "      <td>No</td>\n",
       "      <td>LANDING</td>\n",
       "      <td>United States</td>\n",
       "      <td></td>\n",
       "      <td>...</td>\n",
       "      <td>Preliminary</td>\n",
       "      <td></td>\n",
       "      <td></td>\n",
       "      <td></td>\n",
       "      <td></td>\n",
       "      <td>2</td>\n",
       "      <td>VMC</td>\n",
       "      <td>20150901X92332</td>\n",
       "      <td>On August 31, 2015, about 1230 central dayligh...</td>\n",
       "      <td></td>\n",
       "    </tr>\n",
       "    <tr>\n",
       "      <th>2</th>\n",
       "      <td>GAA15CA246</td>\n",
       "      <td></td>\n",
       "      <td></td>\n",
       "      <td></td>\n",
       "      <td></td>\n",
       "      <td></td>\n",
       "      <td></td>\n",
       "      <td></td>\n",
       "      <td>United States</td>\n",
       "      <td></td>\n",
       "      <td>...</td>\n",
       "      <td>Preliminary</td>\n",
       "      <td></td>\n",
       "      <td></td>\n",
       "      <td></td>\n",
       "      <td></td>\n",
       "      <td></td>\n",
       "      <td></td>\n",
       "      <td>20150902X61853</td>\n",
       "      <td></td>\n",
       "      <td></td>\n",
       "    </tr>\n",
       "    <tr>\n",
       "      <th>3</th>\n",
       "      <td>GAA15CA243</td>\n",
       "      <td></td>\n",
       "      <td></td>\n",
       "      <td></td>\n",
       "      <td></td>\n",
       "      <td></td>\n",
       "      <td></td>\n",
       "      <td></td>\n",
       "      <td>United States</td>\n",
       "      <td></td>\n",
       "      <td>...</td>\n",
       "      <td>Preliminary</td>\n",
       "      <td></td>\n",
       "      <td></td>\n",
       "      <td></td>\n",
       "      <td></td>\n",
       "      <td></td>\n",
       "      <td></td>\n",
       "      <td>20150901X02521</td>\n",
       "      <td></td>\n",
       "      <td></td>\n",
       "    </tr>\n",
       "    <tr>\n",
       "      <th>4</th>\n",
       "      <td>GAA15CA242</td>\n",
       "      <td></td>\n",
       "      <td></td>\n",
       "      <td></td>\n",
       "      <td></td>\n",
       "      <td></td>\n",
       "      <td></td>\n",
       "      <td></td>\n",
       "      <td>United States</td>\n",
       "      <td></td>\n",
       "      <td>...</td>\n",
       "      <td>Preliminary</td>\n",
       "      <td></td>\n",
       "      <td></td>\n",
       "      <td></td>\n",
       "      <td></td>\n",
       "      <td></td>\n",
       "      <td></td>\n",
       "      <td>20150831X61356</td>\n",
       "      <td></td>\n",
       "      <td></td>\n",
       "    </tr>\n",
       "  </tbody>\n",
       "</table>\n",
       "<p>5 rows × 34 columns</p>\n",
       "</div>"
      ],
      "text/plain": [
       "  @AccidentNumber @AirCarrier @AircraftCategory @AircraftDamage @AirportCode  \\\n",
       "0      GAA15CA244                                                              \n",
       "1      CEN15LA392                      Airplane     Substantial          IWS   \n",
       "2      GAA15CA246                                                              \n",
       "3      GAA15CA243                                                              \n",
       "4      GAA15CA242                                                              \n",
       "\n",
       "   @AirportName @AmateurBuilt @BroadPhaseOfFlight       @Country @EngineType  \\\n",
       "0                                                  United States               \n",
       "1  WEST HOUSTON            No             LANDING  United States               \n",
       "2                                                  United States               \n",
       "3                                                  United States               \n",
       "4                                                  United States               \n",
       "\n",
       "       ...       @ReportStatus @Schedule @TotalFatalInjuries  \\\n",
       "0      ...         Preliminary                                 \n",
       "1      ...         Preliminary                                 \n",
       "2      ...         Preliminary                                 \n",
       "3      ...         Preliminary                                 \n",
       "4      ...         Preliminary                                 \n",
       "\n",
       "  @TotalMinorInjuries @TotalSeriousInjuries @TotalUninjured @WeatherCondition  \\\n",
       "0                                                                               \n",
       "1                                                         2               VMC   \n",
       "2                                                                               \n",
       "3                                                                               \n",
       "4                                                                               \n",
       "\n",
       "          EventId                                          narrative  \\\n",
       "0  20150901X74304                                                      \n",
       "1  20150901X92332  On August 31, 2015, about 1230 central dayligh...   \n",
       "2  20150902X61853                                                      \n",
       "3  20150901X02521                                                      \n",
       "4  20150831X61356                                                      \n",
       "\n",
       "  probable_cause  \n",
       "0                 \n",
       "1                 \n",
       "2                 \n",
       "3                 \n",
       "4                 \n",
       "\n",
       "[5 rows x 34 columns]"
      ]
     },
     "execution_count": 14,
     "metadata": {},
     "output_type": "execute_result"
    }
   ],
   "source": [
    "av = pd.merge(xml_df, json_df, left_on = '@EventId', right_on = 'EventId')\n",
    "print(len(av))\n",
    "av.head()"
   ]
  },
  {
   "cell_type": "markdown",
   "metadata": {},
   "source": [
    "### Exploratory Analysis \n",
    "\n",
    "#### Location Exploration\n",
    "Since I have a particular interest in geospatial analysis, one of the first things I noticed in the list of attributes was longitude and latitude. So I decided to start off by plotting the locations of the accidents on a map. \n",
    "\n",
    "Before I can plot I have to force the latitude and longitude columns from a pandas series type to numeric. "
   ]
  },
  {
   "cell_type": "code",
   "execution_count": 15,
   "metadata": {
    "collapsed": true
   },
   "outputs": [],
   "source": [
    "av[['@Latitude','@Longitude']] = av[['@Latitude','@Longitude']].apply(pd.to_numeric)"
   ]
  },
  {
   "cell_type": "markdown",
   "metadata": {},
   "source": [
    "The mapping code below was taking from [this site](http://chrisalbon.com/python/matplotlib_plot_points_on_map.html)"
   ]
  },
  {
   "cell_type": "code",
   "execution_count": 36,
   "metadata": {
    "collapsed": false
   },
   "outputs": [
    {
     "data": {
      "image/png": "[encoded data removed]",
      "text/plain": [
       "<matplotlib.figure.Figure at 0x18710a2b0>"
      ]
     },
     "metadata": {},
     "output_type": "display_data"
    }
   ],
   "source": [
    "# Create a figure of size (i.e. pretty big)\n",
    "fig = plt.figure(figsize=(20,10))\n",
    "\n",
    "# Create a map, using the Gall–Peters projection, \n",
    "map = Basemap(projection='gall', \n",
    "              # with low resolution,\n",
    "              resolution = 'l', \n",
    "              # And threshold 100000\n",
    "              area_thresh = 100000.0,\n",
    "              # Centered at 0,0\n",
    "              lat_0=0, lon_0=0)\n",
    "\n",
    "# Draw the coastlines on the map\n",
    "map.drawcoastlines()\n",
    "\n",
    "# Draw country borders on the map\n",
    "map.drawcountries()\n",
    "\n",
    "# Fill the land with grey\n",
    "map.fillcontinents(color = '#eeeeee')\n",
    "\n",
    "# Draw the map boundaries\n",
    "map.drawmapboundary(fill_color='#ffffff')\n",
    "\n",
    "# Define our longitude and latitude points\n",
    "# We have to use .values because of a weird bug when passing pandas data\n",
    "# to basemap.\n",
    "x,y = map(av['@Longitude'].values, av['@Latitude'].values)\n",
    "\n",
    "# Plot them using round markers of size 6\n",
    "map.plot(x, y, 'ro', markersize=6)\n",
    "\n",
    "# Show the map\n",
    "plt.show()"
   ]
  },
  {
   "cell_type": "markdown",
   "metadata": {},
   "source": [
    "After examining the map I decided to limit the analysis to accidents that occurred within the US. "
   ]
  },
  {
   "cell_type": "code",
   "execution_count": 19,
   "metadata": {
    "collapsed": false
   },
   "outputs": [
    {
     "name": "stdout",
     "output_type": "stream",
     "text": [
      "73076\n"
     ]
    },
    {
     "data": {
      "text/html": [
       "<div>\n",
       "<table border=\"1\" class=\"dataframe\">\n",
       "  <thead>\n",
       "    <tr style=\"text-align: right;\">\n",
       "      <th></th>\n",
       "      <th>@AccidentNumber</th>\n",
       "      <th>@AirCarrier</th>\n",
       "      <th>@AircraftCategory</th>\n",
       "      <th>@AircraftDamage</th>\n",
       "      <th>@AirportCode</th>\n",
       "      <th>@AirportName</th>\n",
       "      <th>@AmateurBuilt</th>\n",
       "      <th>@BroadPhaseOfFlight</th>\n",
       "      <th>@Country</th>\n",
       "      <th>@EngineType</th>\n",
       "      <th>...</th>\n",
       "      <th>@ReportStatus</th>\n",
       "      <th>@Schedule</th>\n",
       "      <th>@TotalFatalInjuries</th>\n",
       "      <th>@TotalMinorInjuries</th>\n",
       "      <th>@TotalSeriousInjuries</th>\n",
       "      <th>@TotalUninjured</th>\n",
       "      <th>@WeatherCondition</th>\n",
       "      <th>EventId</th>\n",
       "      <th>narrative</th>\n",
       "      <th>probable_cause</th>\n",
       "    </tr>\n",
       "  </thead>\n",
       "  <tbody>\n",
       "    <tr>\n",
       "      <th>0</th>\n",
       "      <td>GAA15CA244</td>\n",
       "      <td></td>\n",
       "      <td></td>\n",
       "      <td></td>\n",
       "      <td></td>\n",
       "      <td></td>\n",
       "      <td></td>\n",
       "      <td></td>\n",
       "      <td>United States</td>\n",
       "      <td></td>\n",
       "      <td>...</td>\n",
       "      <td>Preliminary</td>\n",
       "      <td></td>\n",
       "      <td></td>\n",
       "      <td></td>\n",
       "      <td></td>\n",
       "      <td></td>\n",
       "      <td></td>\n",
       "      <td>20150901X74304</td>\n",
       "      <td></td>\n",
       "      <td></td>\n",
       "    </tr>\n",
       "    <tr>\n",
       "      <th>1</th>\n",
       "      <td>CEN15LA392</td>\n",
       "      <td></td>\n",
       "      <td>Airplane</td>\n",
       "      <td>Substantial</td>\n",
       "      <td>IWS</td>\n",
       "      <td>WEST HOUSTON</td>\n",
       "      <td>No</td>\n",
       "      <td>LANDING</td>\n",
       "      <td>United States</td>\n",
       "      <td></td>\n",
       "      <td>...</td>\n",
       "      <td>Preliminary</td>\n",
       "      <td></td>\n",
       "      <td></td>\n",
       "      <td></td>\n",
       "      <td></td>\n",
       "      <td>2</td>\n",
       "      <td>VMC</td>\n",
       "      <td>20150901X92332</td>\n",
       "      <td>On August 31, 2015, about 1230 central dayligh...</td>\n",
       "      <td></td>\n",
       "    </tr>\n",
       "    <tr>\n",
       "      <th>2</th>\n",
       "      <td>GAA15CA246</td>\n",
       "      <td></td>\n",
       "      <td></td>\n",
       "      <td></td>\n",
       "      <td></td>\n",
       "      <td></td>\n",
       "      <td></td>\n",
       "      <td></td>\n",
       "      <td>United States</td>\n",
       "      <td></td>\n",
       "      <td>...</td>\n",
       "      <td>Preliminary</td>\n",
       "      <td></td>\n",
       "      <td></td>\n",
       "      <td></td>\n",
       "      <td></td>\n",
       "      <td></td>\n",
       "      <td></td>\n",
       "      <td>20150902X61853</td>\n",
       "      <td></td>\n",
       "      <td></td>\n",
       "    </tr>\n",
       "    <tr>\n",
       "      <th>3</th>\n",
       "      <td>GAA15CA243</td>\n",
       "      <td></td>\n",
       "      <td></td>\n",
       "      <td></td>\n",
       "      <td></td>\n",
       "      <td></td>\n",
       "      <td></td>\n",
       "      <td></td>\n",
       "      <td>United States</td>\n",
       "      <td></td>\n",
       "      <td>...</td>\n",
       "      <td>Preliminary</td>\n",
       "      <td></td>\n",
       "      <td></td>\n",
       "      <td></td>\n",
       "      <td></td>\n",
       "      <td></td>\n",
       "      <td></td>\n",
       "      <td>20150901X02521</td>\n",
       "      <td></td>\n",
       "      <td></td>\n",
       "    </tr>\n",
       "    <tr>\n",
       "      <th>4</th>\n",
       "      <td>GAA15CA242</td>\n",
       "      <td></td>\n",
       "      <td></td>\n",
       "      <td></td>\n",
       "      <td></td>\n",
       "      <td></td>\n",
       "      <td></td>\n",
       "      <td></td>\n",
       "      <td>United States</td>\n",
       "      <td></td>\n",
       "      <td>...</td>\n",
       "      <td>Preliminary</td>\n",
       "      <td></td>\n",
       "      <td></td>\n",
       "      <td></td>\n",
       "      <td></td>\n",
       "      <td></td>\n",
       "      <td></td>\n",
       "      <td>20150831X61356</td>\n",
       "      <td></td>\n",
       "      <td></td>\n",
       "    </tr>\n",
       "  </tbody>\n",
       "</table>\n",
       "<p>5 rows × 34 columns</p>\n",
       "</div>"
      ],
      "text/plain": [
       "  @AccidentNumber @AirCarrier @AircraftCategory @AircraftDamage @AirportCode  \\\n",
       "0      GAA15CA244                                                              \n",
       "1      CEN15LA392                      Airplane     Substantial          IWS   \n",
       "2      GAA15CA246                                                              \n",
       "3      GAA15CA243                                                              \n",
       "4      GAA15CA242                                                              \n",
       "\n",
       "   @AirportName @AmateurBuilt @BroadPhaseOfFlight       @Country @EngineType  \\\n",
       "0                                                  United States               \n",
       "1  WEST HOUSTON            No             LANDING  United States               \n",
       "2                                                  United States               \n",
       "3                                                  United States               \n",
       "4                                                  United States               \n",
       "\n",
       "       ...       @ReportStatus @Schedule @TotalFatalInjuries  \\\n",
       "0      ...         Preliminary                                 \n",
       "1      ...         Preliminary                                 \n",
       "2      ...         Preliminary                                 \n",
       "3      ...         Preliminary                                 \n",
       "4      ...         Preliminary                                 \n",
       "\n",
       "  @TotalMinorInjuries @TotalSeriousInjuries  @TotalUninjured  \\\n",
       "0                                                              \n",
       "1                                                          2   \n",
       "2                                                              \n",
       "3                                                              \n",
       "4                                                              \n",
       "\n",
       "  @WeatherCondition         EventId  \\\n",
       "0                    20150901X74304   \n",
       "1               VMC  20150901X92332   \n",
       "2                    20150902X61853   \n",
       "3                    20150901X02521   \n",
       "4                    20150831X61356   \n",
       "\n",
       "                                           narrative probable_cause  \n",
       "0                                                                    \n",
       "1  On August 31, 2015, about 1230 central dayligh...                 \n",
       "2                                                                    \n",
       "3                                                                    \n",
       "4                                                                    \n",
       "\n",
       "[5 rows x 34 columns]"
      ]
     },
     "execution_count": 19,
     "metadata": {},
     "output_type": "execute_result"
    }
   ],
   "source": [
    "av = av[av['@Country'] == 'United States']\n",
    "print(len(av))\n",
    "av.head()"
   ]
  },
  {
   "cell_type": "markdown",
   "metadata": {},
   "source": [
    "#### Text Analysis \n",
    "Next, I want to take a look at the text that came from the json files which includes the narrative and probable cause. So the first thing I want to do is export the data in those to columns to a list."
   ]
  },
  {
   "cell_type": "code",
   "execution_count": 21,
   "metadata": {
    "collapsed": false
   },
   "outputs": [],
   "source": [
    "narrative = av['narrative'].tolist()\n",
    "prob_cause = av['probable_cause'].tolist()\n",
    "\n",
    "txt_list = narrative + prob_cause"
   ]
  },
  {
   "cell_type": "markdown",
   "metadata": {},
   "source": [
    "I need to turn the list into a corpus of individual words so I'm going to split each item in the text list and put everything in lower case while I'm at it. "
   ]
  },
  {
   "cell_type": "code",
   "execution_count": 23,
   "metadata": {
    "collapsed": false
   },
   "outputs": [
    {
     "name": "stdout",
     "output_type": "stream",
     "text": [
      "['on', 'august', '31,', '2015,', 'about']\n",
      "12200547\n"
     ]
    }
   ],
   "source": [
    "corpus = []\n",
    "\n",
    "for string in txt_list:\n",
    "    corpus.extend(string.lower().split())\n",
    "    \n",
    "print(corpus[:5])\n",
    "print(len(corpus))"
   ]
  },
  {
   "cell_type": "markdown",
   "metadata": {},
   "source": [
    "Now that my corpus is created, I'll remove all of the common stopwords which should reduce its size a good bit. "
   ]
  },
  {
   "cell_type": "code",
   "execution_count": 24,
   "metadata": {
    "collapsed": false
   },
   "outputs": [
    {
     "name": "stdout",
     "output_type": "stream",
     "text": [
      "['august', '31,', '2015,', '1230', 'central']\n",
      "7190930\n"
     ]
    }
   ],
   "source": [
    "filtered_corpus = [word for word in corpus \n",
    "                   if word not in stopwords.words('english')]\n",
    "\n",
    "print(filtered_corpus[:5])\n",
    "print(len(filtered_corpus))"
   ]
  },
  {
   "cell_type": "markdown",
   "metadata": {},
   "source": [
    "Finally, I'm going to use nltk's Frequency Distribution function to see what some of the top words are. "
   ]
  },
  {
   "cell_type": "code",
   "execution_count": 30,
   "metadata": {
    "collapsed": false
   },
   "outputs": [],
   "source": [
    "fdist = nltk.FreqDist(filtered_corpus)"
   ]
  },
  {
   "cell_type": "code",
   "execution_count": 32,
   "metadata": {
    "collapsed": false
   },
   "outputs": [
    {
     "data": {
      "image/png": "[encoded data removed]",
      "text/plain": [
       "<matplotlib.figure.Figure at 0x186572da0>"
      ]
     },
     "metadata": {},
     "output_type": "display_data"
    }
   ],
   "source": [
    "fdist.plot(30, cumulative=True)"
   ]
  },
  {
   "cell_type": "markdown",
   "metadata": {},
   "source": [
    "Most of the words seem pretty generic to aviation accidents. There are a few that stand out such as engine, landing, fuel, runway, failure, etc. \n",
    "\n",
    "I could try to look into these further but instead I'm going to look into accidents caused by bird activity since I think this will be a smaller more unique subset. (I got the idea from the flight that crashed into the Hudson River in 2009 going from NY to Charlotte.)\n",
    "\n",
    "#### Bird Activity Analysis \n",
    "First, I want to check out the frequency distribution of a few bird related terms to see if it does seem worthwhile to pursue. "
   ]
  },
  {
   "cell_type": "code",
   "execution_count": 38,
   "metadata": {
    "collapsed": false
   },
   "outputs": [
    {
     "name": "stdout",
     "output_type": "stream",
     "text": [
      "404\n",
      "145\n",
      "27\n",
      "43\n"
     ]
    }
   ],
   "source": [
    "print(fdist['bird'])\n",
    "print(fdist['birds'])\n",
    "print(fdist['goose'])\n",
    "print(fdist['geese'])"
   ]
  },
  {
   "cell_type": "markdown",
   "metadata": {},
   "source": [
    "Next, I want to create a flag variable in the aviation dataframe to reference if there are any bird related terms in the narrative or probable cause. I got a number of the items in the list from [this](https://en.wikipedia.org/wiki/Bird_strike) page on bird strikes. "
   ]
  },
  {
   "cell_type": "code",
   "execution_count": 53,
   "metadata": {
    "collapsed": true
   },
   "outputs": [],
   "source": [
    "bird_list = ['avian', 'bird', 'birds', 'goose', 'geese', 'flock', 'flocks', 'duck', 'ducks', 'pigeon', 'pigeons', 'crane','cranes','stork','storks','swan','swans','vulture','vultures','pelican','pelicans','gull','gulls','seagull','seagulls','falcon','falcons','buzzard','buzzards','dove','doves','lark','larks']"
   ]
  },
  {
   "cell_type": "code",
   "execution_count": 56,
   "metadata": {
    "collapsed": false
   },
   "outputs": [
    {
     "data": {
      "text/html": [
       "<div>\n",
       "<table border=\"1\" class=\"dataframe\">\n",
       "  <thead>\n",
       "    <tr style=\"text-align: right;\">\n",
       "      <th></th>\n",
       "      <th>@AccidentNumber</th>\n",
       "      <th>@AirCarrier</th>\n",
       "      <th>@AircraftCategory</th>\n",
       "      <th>@AircraftDamage</th>\n",
       "      <th>@AirportCode</th>\n",
       "      <th>@AirportName</th>\n",
       "      <th>@AmateurBuilt</th>\n",
       "      <th>@BroadPhaseOfFlight</th>\n",
       "      <th>@Country</th>\n",
       "      <th>@EngineType</th>\n",
       "      <th>...</th>\n",
       "      <th>@Schedule</th>\n",
       "      <th>@TotalFatalInjuries</th>\n",
       "      <th>@TotalMinorInjuries</th>\n",
       "      <th>@TotalSeriousInjuries</th>\n",
       "      <th>@TotalUninjured</th>\n",
       "      <th>@WeatherCondition</th>\n",
       "      <th>EventId</th>\n",
       "      <th>narrative</th>\n",
       "      <th>probable_cause</th>\n",
       "      <th>Birds</th>\n",
       "    </tr>\n",
       "  </thead>\n",
       "  <tbody>\n",
       "    <tr>\n",
       "      <th>0</th>\n",
       "      <td>GAA15CA244</td>\n",
       "      <td></td>\n",
       "      <td></td>\n",
       "      <td></td>\n",
       "      <td></td>\n",
       "      <td></td>\n",
       "      <td></td>\n",
       "      <td></td>\n",
       "      <td>United States</td>\n",
       "      <td></td>\n",
       "      <td>...</td>\n",
       "      <td></td>\n",
       "      <td></td>\n",
       "      <td></td>\n",
       "      <td></td>\n",
       "      <td></td>\n",
       "      <td></td>\n",
       "      <td>20150901X74304</td>\n",
       "      <td></td>\n",
       "      <td></td>\n",
       "      <td>0</td>\n",
       "    </tr>\n",
       "    <tr>\n",
       "      <th>1</th>\n",
       "      <td>CEN15LA392</td>\n",
       "      <td></td>\n",
       "      <td>Airplane</td>\n",
       "      <td>Substantial</td>\n",
       "      <td>IWS</td>\n",
       "      <td>WEST HOUSTON</td>\n",
       "      <td>No</td>\n",
       "      <td>LANDING</td>\n",
       "      <td>United States</td>\n",
       "      <td></td>\n",
       "      <td>...</td>\n",
       "      <td></td>\n",
       "      <td></td>\n",
       "      <td></td>\n",
       "      <td></td>\n",
       "      <td>2</td>\n",
       "      <td>VMC</td>\n",
       "      <td>20150901X92332</td>\n",
       "      <td>On August 31, 2015, about 1230 central dayligh...</td>\n",
       "      <td></td>\n",
       "      <td>0</td>\n",
       "    </tr>\n",
       "    <tr>\n",
       "      <th>2</th>\n",
       "      <td>GAA15CA246</td>\n",
       "      <td></td>\n",
       "      <td></td>\n",
       "      <td></td>\n",
       "      <td></td>\n",
       "      <td></td>\n",
       "      <td></td>\n",
       "      <td></td>\n",
       "      <td>United States</td>\n",
       "      <td></td>\n",
       "      <td>...</td>\n",
       "      <td></td>\n",
       "      <td></td>\n",
       "      <td></td>\n",
       "      <td></td>\n",
       "      <td></td>\n",
       "      <td></td>\n",
       "      <td>20150902X61853</td>\n",
       "      <td></td>\n",
       "      <td></td>\n",
       "      <td>0</td>\n",
       "    </tr>\n",
       "    <tr>\n",
       "      <th>3</th>\n",
       "      <td>GAA15CA243</td>\n",
       "      <td></td>\n",
       "      <td></td>\n",
       "      <td></td>\n",
       "      <td></td>\n",
       "      <td></td>\n",
       "      <td></td>\n",
       "      <td></td>\n",
       "      <td>United States</td>\n",
       "      <td></td>\n",
       "      <td>...</td>\n",
       "      <td></td>\n",
       "      <td></td>\n",
       "      <td></td>\n",
       "      <td></td>\n",
       "      <td></td>\n",
       "      <td></td>\n",
       "      <td>20150901X02521</td>\n",
       "      <td></td>\n",
       "      <td></td>\n",
       "      <td>0</td>\n",
       "    </tr>\n",
       "    <tr>\n",
       "      <th>4</th>\n",
       "      <td>GAA15CA242</td>\n",
       "      <td></td>\n",
       "      <td></td>\n",
       "      <td></td>\n",
       "      <td></td>\n",
       "      <td></td>\n",
       "      <td></td>\n",
       "      <td></td>\n",
       "      <td>United States</td>\n",
       "      <td></td>\n",
       "      <td>...</td>\n",
       "      <td></td>\n",
       "      <td></td>\n",
       "      <td></td>\n",
       "      <td></td>\n",
       "      <td></td>\n",
       "      <td></td>\n",
       "      <td>20150831X61356</td>\n",
       "      <td></td>\n",
       "      <td></td>\n",
       "      <td>0</td>\n",
       "    </tr>\n",
       "  </tbody>\n",
       "</table>\n",
       "<p>5 rows × 35 columns</p>\n",
       "</div>"
      ],
      "text/plain": [
       "  @AccidentNumber @AirCarrier @AircraftCategory @AircraftDamage @AirportCode  \\\n",
       "0      GAA15CA244                                                              \n",
       "1      CEN15LA392                      Airplane     Substantial          IWS   \n",
       "2      GAA15CA246                                                              \n",
       "3      GAA15CA243                                                              \n",
       "4      GAA15CA242                                                              \n",
       "\n",
       "   @AirportName @AmateurBuilt @BroadPhaseOfFlight       @Country @EngineType  \\\n",
       "0                                                  United States               \n",
       "1  WEST HOUSTON            No             LANDING  United States               \n",
       "2                                                  United States               \n",
       "3                                                  United States               \n",
       "4                                                  United States               \n",
       "\n",
       "   ...  @Schedule @TotalFatalInjuries @TotalMinorInjuries  \\\n",
       "0  ...                                                      \n",
       "1  ...                                                      \n",
       "2  ...                                                      \n",
       "3  ...                                                      \n",
       "4  ...                                                      \n",
       "\n",
       "  @TotalSeriousInjuries @TotalUninjured  @WeatherCondition         EventId  \\\n",
       "0                                                           20150901X74304   \n",
       "1                                     2                VMC  20150901X92332   \n",
       "2                                                           20150902X61853   \n",
       "3                                                           20150901X02521   \n",
       "4                                                           20150831X61356   \n",
       "\n",
       "                                           narrative probable_cause Birds  \n",
       "0                                                                       0  \n",
       "1  On August 31, 2015, about 1230 central dayligh...                    0  \n",
       "2                                                                       0  \n",
       "3                                                                       0  \n",
       "4                                                                       0  \n",
       "\n",
       "[5 rows x 35 columns]"
      ]
     },
     "execution_count": 56,
     "metadata": {},
     "output_type": "execute_result"
    }
   ],
   "source": [
    "birds = []\n",
    "\n",
    "for index, row in av.iterrows():\n",
    "    bird_flag = 0\n",
    "    row_list = row['narrative'].lower().split() + row['probable_cause'].lower().split()\n",
    "    for word in row_list:\n",
    "        if word in bird_list:\n",
    "            bird_flag = 1\n",
    "            break\n",
    "                \n",
    "    birds.append(bird_flag)\n",
    "            \n",
    "av['Birds'] = birds  \n",
    "av.head()"
   ]
  },
  {
   "cell_type": "markdown",
   "metadata": {},
   "source": [
    "After creating the flag, I used it create a second dataframe of only bird related accidents and checked to see how many records there were."
   ]
  },
  {
   "cell_type": "code",
   "execution_count": 169,
   "metadata": {
    "collapsed": false
   },
   "outputs": [
    {
     "name": "stdout",
     "output_type": "stream",
     "text": [
      "577\n"
     ]
    },
    {
     "data": {
      "text/html": [
       "<div>\n",
       "<table border=\"1\" class=\"dataframe\">\n",
       "  <thead>\n",
       "    <tr style=\"text-align: right;\">\n",
       "      <th></th>\n",
       "      <th>@AccidentNumber</th>\n",
       "      <th>@AirCarrier</th>\n",
       "      <th>@AircraftCategory</th>\n",
       "      <th>@AircraftDamage</th>\n",
       "      <th>@AirportCode</th>\n",
       "      <th>@AirportName</th>\n",
       "      <th>@AmateurBuilt</th>\n",
       "      <th>@BroadPhaseOfFlight</th>\n",
       "      <th>@Country</th>\n",
       "      <th>@EngineType</th>\n",
       "      <th>...</th>\n",
       "      <th>@Schedule</th>\n",
       "      <th>@TotalFatalInjuries</th>\n",
       "      <th>@TotalMinorInjuries</th>\n",
       "      <th>@TotalSeriousInjuries</th>\n",
       "      <th>@TotalUninjured</th>\n",
       "      <th>@WeatherCondition</th>\n",
       "      <th>EventId</th>\n",
       "      <th>narrative</th>\n",
       "      <th>probable_cause</th>\n",
       "      <th>Birds</th>\n",
       "    </tr>\n",
       "  </thead>\n",
       "  <tbody>\n",
       "    <tr>\n",
       "      <th>5</th>\n",
       "      <td>WPR15LA253B</td>\n",
       "      <td></td>\n",
       "      <td>Airplane</td>\n",
       "      <td>Minor</td>\n",
       "      <td>LAS</td>\n",
       "      <td>McCarran International</td>\n",
       "      <td>No</td>\n",
       "      <td>STANDING</td>\n",
       "      <td>United States</td>\n",
       "      <td>Turbo Jet</td>\n",
       "      <td>...</td>\n",
       "      <td></td>\n",
       "      <td></td>\n",
       "      <td></td>\n",
       "      <td></td>\n",
       "      <td>5</td>\n",
       "      <td>VMC</td>\n",
       "      <td>20150831X30510</td>\n",
       "      <td>On August 28, 2015, about 1010 Pacific dayligh...</td>\n",
       "      <td></td>\n",
       "      <td>1</td>\n",
       "    </tr>\n",
       "    <tr>\n",
       "      <th>6</th>\n",
       "      <td>WPR15LA253A</td>\n",
       "      <td></td>\n",
       "      <td>Airplane</td>\n",
       "      <td>Substantial</td>\n",
       "      <td>LAS</td>\n",
       "      <td>McCarran International</td>\n",
       "      <td>No</td>\n",
       "      <td>STANDING</td>\n",
       "      <td>United States</td>\n",
       "      <td>Turbo Prop</td>\n",
       "      <td>...</td>\n",
       "      <td></td>\n",
       "      <td></td>\n",
       "      <td></td>\n",
       "      <td></td>\n",
       "      <td>5</td>\n",
       "      <td>VMC</td>\n",
       "      <td>20150831X30510</td>\n",
       "      <td>On August 28, 2015, about 1010 Pacific dayligh...</td>\n",
       "      <td></td>\n",
       "      <td>1</td>\n",
       "    </tr>\n",
       "    <tr>\n",
       "      <th>11</th>\n",
       "      <td>ERA15FA326</td>\n",
       "      <td></td>\n",
       "      <td>Airplane</td>\n",
       "      <td>Destroyed</td>\n",
       "      <td>HUL</td>\n",
       "      <td>HOULTON INTL</td>\n",
       "      <td>No</td>\n",
       "      <td>APPROACH</td>\n",
       "      <td>United States</td>\n",
       "      <td>Reciprocating</td>\n",
       "      <td>...</td>\n",
       "      <td></td>\n",
       "      <td>1</td>\n",
       "      <td></td>\n",
       "      <td></td>\n",
       "      <td></td>\n",
       "      <td>IMC</td>\n",
       "      <td>20150827X03425</td>\n",
       "      <td>On August 27, 2015, about 0200 eastern dayligh...</td>\n",
       "      <td></td>\n",
       "      <td>1</td>\n",
       "    </tr>\n",
       "    <tr>\n",
       "      <th>21</th>\n",
       "      <td>WPR15LA249</td>\n",
       "      <td></td>\n",
       "      <td>Helicopter</td>\n",
       "      <td>Substantial</td>\n",
       "      <td>FFZ</td>\n",
       "      <td>FALCON FLD</td>\n",
       "      <td>No</td>\n",
       "      <td>APPROACH</td>\n",
       "      <td>United States</td>\n",
       "      <td>Reciprocating</td>\n",
       "      <td>...</td>\n",
       "      <td></td>\n",
       "      <td></td>\n",
       "      <td>1</td>\n",
       "      <td></td>\n",
       "      <td>1</td>\n",
       "      <td>VMC</td>\n",
       "      <td>20150824X75351</td>\n",
       "      <td>On August 23, 2015, about 1645 mountain standa...</td>\n",
       "      <td></td>\n",
       "      <td>1</td>\n",
       "    </tr>\n",
       "    <tr>\n",
       "      <th>241</th>\n",
       "      <td>ANC15LA048</td>\n",
       "      <td></td>\n",
       "      <td>Airplane</td>\n",
       "      <td>Substantial</td>\n",
       "      <td>JNU</td>\n",
       "      <td>JUNEAU INTL</td>\n",
       "      <td>No</td>\n",
       "      <td>LANDING</td>\n",
       "      <td>United States</td>\n",
       "      <td>Reciprocating</td>\n",
       "      <td>...</td>\n",
       "      <td></td>\n",
       "      <td></td>\n",
       "      <td></td>\n",
       "      <td></td>\n",
       "      <td>2</td>\n",
       "      <td>VMC</td>\n",
       "      <td>20150713X85701</td>\n",
       "      <td>On July 11, 2015, about 1648 Alaska daylight t...</td>\n",
       "      <td></td>\n",
       "      <td>1</td>\n",
       "    </tr>\n",
       "  </tbody>\n",
       "</table>\n",
       "<p>5 rows × 35 columns</p>\n",
       "</div>"
      ],
      "text/plain": [
       "    @AccidentNumber @AirCarrier @AircraftCategory @AircraftDamage  \\\n",
       "5       WPR15LA253B                      Airplane           Minor   \n",
       "6       WPR15LA253A                      Airplane     Substantial   \n",
       "11       ERA15FA326                      Airplane       Destroyed   \n",
       "21       WPR15LA249                    Helicopter     Substantial   \n",
       "241      ANC15LA048                      Airplane     Substantial   \n",
       "\n",
       "    @AirportCode            @AirportName @AmateurBuilt @BroadPhaseOfFlight  \\\n",
       "5            LAS  McCarran International            No            STANDING   \n",
       "6            LAS  McCarran International            No            STANDING   \n",
       "11           HUL            HOULTON INTL            No            APPROACH   \n",
       "21           FFZ              FALCON FLD            No            APPROACH   \n",
       "241          JNU             JUNEAU INTL            No             LANDING   \n",
       "\n",
       "          @Country    @EngineType  ...  @Schedule @TotalFatalInjuries  \\\n",
       "5    United States      Turbo Jet  ...                                  \n",
       "6    United States     Turbo Prop  ...                                  \n",
       "11   United States  Reciprocating  ...                              1   \n",
       "21   United States  Reciprocating  ...                                  \n",
       "241  United States  Reciprocating  ...                                  \n",
       "\n",
       "    @TotalMinorInjuries @TotalSeriousInjuries @TotalUninjured  \\\n",
       "5                                                           5   \n",
       "6                                                           5   \n",
       "11                                                              \n",
       "21                    1                                     1   \n",
       "241                                                         2   \n",
       "\n",
       "     @WeatherCondition         EventId  \\\n",
       "5                  VMC  20150831X30510   \n",
       "6                  VMC  20150831X30510   \n",
       "11                 IMC  20150827X03425   \n",
       "21                 VMC  20150824X75351   \n",
       "241                VMC  20150713X85701   \n",
       "\n",
       "                                             narrative probable_cause Birds  \n",
       "5    On August 28, 2015, about 1010 Pacific dayligh...                    1  \n",
       "6    On August 28, 2015, about 1010 Pacific dayligh...                    1  \n",
       "11   On August 27, 2015, about 0200 eastern dayligh...                    1  \n",
       "21   On August 23, 2015, about 1645 mountain standa...                    1  \n",
       "241  On July 11, 2015, about 1648 Alaska daylight t...                    1  \n",
       "\n",
       "[5 rows x 35 columns]"
      ]
     },
     "execution_count": 169,
     "metadata": {},
     "output_type": "execute_result"
    }
   ],
   "source": [
    "bird_df = av[av['Birds'] == 1]\n",
    "print(len(bird_df))\n",
    "bird_df.head()"
   ]
  },
  {
   "cell_type": "markdown",
   "metadata": {},
   "source": [
    "The first thing I want to look at is where in the US the bird strikes are taking place. I did this using the same mapping code from prior analysis but changed the view to only show the US.  "
   ]
  },
  {
   "cell_type": "code",
   "execution_count": 58,
   "metadata": {
    "collapsed": false
   },
   "outputs": [
    {
     "data": {
      "image/png": "[encoded data removed]",
      "text/plain": [
       "<matplotlib.figure.Figure at 0x186f052e8>"
      ]
     },
     "metadata": {},
     "output_type": "display_data"
    }
   ],
   "source": [
    "# Create a figure of size (i.e. pretty big)\n",
    "fig = plt.figure(figsize=(12,10))\n",
    "\n",
    "# Create a map, using the Gall–Peters projection, \n",
    "map = Basemap(projection='gall', \n",
    "              # with low resolution,\n",
    "              resolution = 'l', \n",
    "              # And threshold 100000\n",
    "              area_thresh = 100000.0,\n",
    "              # Centered at 0,0\n",
    "              lat_0=0, lon_0=0,\n",
    "              llcrnrlat=5.5, urcrnrlat=83.2, llcrnrlon=-180, urcrnrlon=-52.3,)\n",
    "\n",
    "# Draw the coastlines on the map\n",
    "map.drawcoastlines()\n",
    "\n",
    "# Draw country borders on the map\n",
    "map.drawcountries()\n",
    "\n",
    "# Fill the land with grey\n",
    "map.fillcontinents(color = '#eeeeee')\n",
    "\n",
    "# Draw the map boundaries\n",
    "map.drawmapboundary(fill_color='#ffffff')\n",
    "\n",
    "# Define our longitude and latitude points\n",
    "# We have to use .values because of a weird bug when passing pandas data\n",
    "# to basemap.\n",
    "x,y = map(bird_df['@Longitude'].values, bird_df['@Latitude'].values)\n",
    "\n",
    "# Plot them using round markers of size 6\n",
    "map.plot(x, y, 'ro', markersize=6)\n",
    "\n",
    "# Show the map\n",
    "plt.show()"
   ]
  },
  {
   "cell_type": "markdown",
   "metadata": {},
   "source": [
    "From the map, it looks like there is a hot spot for bird strikes in Florida. There also looks to be a lot of activity in the Northeast and mid/southern California. \n",
    "\n",
    "Since there were a few hot spots, I wanted to see if they correlated to any particular airport."
   ]
  },
  {
   "cell_type": "code",
   "execution_count": 139,
   "metadata": {
    "collapsed": false
   },
   "outputs": [
    {
     "data": {
      "text/html": [
       "<div>\n",
       "<table border=\"1\" class=\"dataframe\">\n",
       "  <thead>\n",
       "    <tr style=\"text-align: right;\">\n",
       "      <th></th>\n",
       "      <th>Airport</th>\n",
       "    </tr>\n",
       "  </thead>\n",
       "  <tbody>\n",
       "    <tr>\n",
       "      <th></th>\n",
       "      <td>259</td>\n",
       "    </tr>\n",
       "    <tr>\n",
       "      <th>NONE</th>\n",
       "      <td>8</td>\n",
       "    </tr>\n",
       "    <tr>\n",
       "      <th>FFZ</th>\n",
       "      <td>6</td>\n",
       "    </tr>\n",
       "    <tr>\n",
       "      <th>TEB</th>\n",
       "      <td>4</td>\n",
       "    </tr>\n",
       "    <tr>\n",
       "      <th>DEN</th>\n",
       "      <td>3</td>\n",
       "    </tr>\n",
       "    <tr>\n",
       "      <th>28A</th>\n",
       "      <td>3</td>\n",
       "    </tr>\n",
       "    <tr>\n",
       "      <th>KTEB</th>\n",
       "      <td>2</td>\n",
       "    </tr>\n",
       "    <tr>\n",
       "      <th>KCLL</th>\n",
       "      <td>2</td>\n",
       "    </tr>\n",
       "    <tr>\n",
       "      <th>BWI</th>\n",
       "      <td>2</td>\n",
       "    </tr>\n",
       "    <tr>\n",
       "      <th>TPA</th>\n",
       "      <td>2</td>\n",
       "    </tr>\n",
       "  </tbody>\n",
       "</table>\n",
       "</div>"
      ],
      "text/plain": [
       "      Airport\n",
       "          259\n",
       "NONE        8\n",
       "FFZ         6\n",
       "TEB         4\n",
       "DEN         3\n",
       "28A         3\n",
       "KTEB        2\n",
       "KCLL        2\n",
       "BWI         2\n",
       "TPA         2"
      ]
     },
     "execution_count": 139,
     "metadata": {},
     "output_type": "execute_result"
    }
   ],
   "source": [
    "airport = bird_df['@AirportCode'].tolist()\n",
    "\n",
    "airport_df = pd.DataFrame({'Airport': airport})\n",
    "counts= airport_df.apply(pd.value_counts)\n",
    "\n",
    "df = pd.DataFrame(counts)\n",
    "df.head(10)"
   ]
  },
  {
   "cell_type": "markdown",
   "metadata": {},
   "source": [
    "Unfortunately, a little less than half of the accidents didn't report an airport and of those that did many of them were small private airports and all of them had less than 10 reported incidents. Thus, not much insight was gained here. \n",
    "\n",
    "Instead, I'm going to switch gears and look at the number of incidents per year. To do this, I'll need to create a year variable by extracting it from the event date, summarize, and graph it. "
   ]
  },
  {
   "cell_type": "code",
   "execution_count": 200,
   "metadata": {
    "collapsed": false
   },
   "outputs": [],
   "source": [
    "date = bird_df['@EventDate'].tolist()\n",
    "\n",
    "date_df = pd.DataFrame({'Date': date})\n",
    "\n",
    "date_df['Date'] = pd.to_datetime(date_df['Date'])\n",
    "\n",
    "date_df['Year'] = date_df['Date'].dt.year"
   ]
  },
  {
   "cell_type": "code",
   "execution_count": 201,
   "metadata": {
    "collapsed": false
   },
   "outputs": [],
   "source": [
    "date_df = date_df.drop('Date', axis=1)\n",
    "counts= date_df.apply(pd.value_counts, sort = False)"
   ]
  },
  {
   "cell_type": "code",
   "execution_count": 202,
   "metadata": {
    "collapsed": false
   },
   "outputs": [
    {
     "data": {
      "text/plain": [
       "<matplotlib.axes._subplots.AxesSubplot at 0x193160940>"
      ]
     },
     "execution_count": 202,
     "metadata": {},
     "output_type": "execute_result"
    },
    {
     "data": {
      "image/png": "[encoded data removed]",
      "text/plain": [
       "<matplotlib.figure.Figure at 0x192db44a8>"
      ]
     },
     "metadata": {},
     "output_type": "display_data"
    }
   ],
   "source": [
    "counts.plot.bar()"
   ]
  },
  {
   "cell_type": "code",
   "execution_count": 203,
   "metadata": {
    "collapsed": false
   },
   "outputs": [
    {
     "data": {
      "text/html": [
       "<div>\n",
       "<table border=\"1\" class=\"dataframe\">\n",
       "  <thead>\n",
       "    <tr style=\"text-align: right;\">\n",
       "      <th></th>\n",
       "      <th>Year</th>\n",
       "    </tr>\n",
       "  </thead>\n",
       "  <tbody>\n",
       "    <tr>\n",
       "      <th>count</th>\n",
       "      <td>34.000000</td>\n",
       "    </tr>\n",
       "    <tr>\n",
       "      <th>mean</th>\n",
       "      <td>16.970588</td>\n",
       "    </tr>\n",
       "    <tr>\n",
       "      <th>std</th>\n",
       "      <td>6.640031</td>\n",
       "    </tr>\n",
       "    <tr>\n",
       "      <th>min</th>\n",
       "      <td>7.000000</td>\n",
       "    </tr>\n",
       "    <tr>\n",
       "      <th>25%</th>\n",
       "      <td>11.250000</td>\n",
       "    </tr>\n",
       "    <tr>\n",
       "      <th>50%</th>\n",
       "      <td>17.000000</td>\n",
       "    </tr>\n",
       "    <tr>\n",
       "      <th>75%</th>\n",
       "      <td>21.750000</td>\n",
       "    </tr>\n",
       "    <tr>\n",
       "      <th>max</th>\n",
       "      <td>31.000000</td>\n",
       "    </tr>\n",
       "  </tbody>\n",
       "</table>\n",
       "</div>"
      ],
      "text/plain": [
       "            Year\n",
       "count  34.000000\n",
       "mean   16.970588\n",
       "std     6.640031\n",
       "min     7.000000\n",
       "25%    11.250000\n",
       "50%    17.000000\n",
       "75%    21.750000\n",
       "max    31.000000"
      ]
     },
     "execution_count": 203,
     "metadata": {},
     "output_type": "execute_result"
    }
   ],
   "source": [
    "counts.describe()"
   ]
  },
  {
   "cell_type": "markdown",
   "metadata": {},
   "source": [
    "*Side Note: If I had more time, I would have liked to check out monthly accidents to see if there were any seasonality patterns possibly related to migration patterns.*\n",
    "\n",
    "I was also curious to find out the extent of damage typically caused to the planes during the accidents and how often fatalities occurred. "
   ]
  },
  {
   "cell_type": "code",
   "execution_count": 193,
   "metadata": {
    "collapsed": false
   },
   "outputs": [
    {
     "data": {
      "text/html": [
       "<div>\n",
       "<table border=\"1\" class=\"dataframe\">\n",
       "  <thead>\n",
       "    <tr style=\"text-align: right;\">\n",
       "      <th></th>\n",
       "      <th>Damage</th>\n",
       "    </tr>\n",
       "  </thead>\n",
       "  <tbody>\n",
       "    <tr>\n",
       "      <th>Substantial</th>\n",
       "      <td>373</td>\n",
       "    </tr>\n",
       "    <tr>\n",
       "      <th>Destroyed</th>\n",
       "      <td>164</td>\n",
       "    </tr>\n",
       "    <tr>\n",
       "      <th>Minor</th>\n",
       "      <td>32</td>\n",
       "    </tr>\n",
       "    <tr>\n",
       "      <th></th>\n",
       "      <td>8</td>\n",
       "    </tr>\n",
       "  </tbody>\n",
       "</table>\n",
       "</div>"
      ],
      "text/plain": [
       "             Damage\n",
       "Substantial     373\n",
       "Destroyed       164\n",
       "Minor            32\n",
       "                  8"
      ]
     },
     "execution_count": 193,
     "metadata": {},
     "output_type": "execute_result"
    }
   ],
   "source": [
    "damage = bird_df['@AircraftDamage'].tolist()\n",
    "\n",
    "damage_df = pd.DataFrame({'Damage': damage})\n",
    "damage_counts = damage_df.apply(pd.value_counts)\n",
    "\n",
    "damage_counts"
   ]
  },
  {
   "cell_type": "code",
   "execution_count": 195,
   "metadata": {
    "collapsed": false
   },
   "outputs": [
    {
     "data": {
      "text/html": [
       "<div>\n",
       "<table border=\"1\" class=\"dataframe\">\n",
       "  <thead>\n",
       "    <tr style=\"text-align: right;\">\n",
       "      <th></th>\n",
       "      <th>Injury</th>\n",
       "    </tr>\n",
       "  </thead>\n",
       "  <tbody>\n",
       "    <tr>\n",
       "      <th>Non-Fatal</th>\n",
       "      <td>363</td>\n",
       "    </tr>\n",
       "    <tr>\n",
       "      <th>Fatal(1)</th>\n",
       "      <td>104</td>\n",
       "    </tr>\n",
       "    <tr>\n",
       "      <th>Fatal(2)</th>\n",
       "      <td>50</td>\n",
       "    </tr>\n",
       "    <tr>\n",
       "      <th>Incident</th>\n",
       "      <td>26</td>\n",
       "    </tr>\n",
       "    <tr>\n",
       "      <th>Fatal(3)</th>\n",
       "      <td>11</td>\n",
       "    </tr>\n",
       "    <tr>\n",
       "      <th>Fatal(4)</th>\n",
       "      <td>11</td>\n",
       "    </tr>\n",
       "    <tr>\n",
       "      <th>Fatal(5)</th>\n",
       "      <td>4</td>\n",
       "    </tr>\n",
       "    <tr>\n",
       "      <th>Fatal(6)</th>\n",
       "      <td>4</td>\n",
       "    </tr>\n",
       "    <tr>\n",
       "      <th>Fatal(8)</th>\n",
       "      <td>2</td>\n",
       "    </tr>\n",
       "    <tr>\n",
       "      <th>Fatal(11)</th>\n",
       "      <td>2</td>\n",
       "    </tr>\n",
       "  </tbody>\n",
       "</table>\n",
       "</div>"
      ],
      "text/plain": [
       "           Injury\n",
       "Non-Fatal     363\n",
       "Fatal(1)      104\n",
       "Fatal(2)       50\n",
       "Incident       26\n",
       "Fatal(3)       11\n",
       "Fatal(4)       11\n",
       "Fatal(5)        4\n",
       "Fatal(6)        4\n",
       "Fatal(8)        2\n",
       "Fatal(11)       2"
      ]
     },
     "execution_count": 195,
     "metadata": {},
     "output_type": "execute_result"
    }
   ],
   "source": [
    "injury = bird_df['@InjurySeverity'].tolist()\n",
    "\n",
    "injury_df = pd.DataFrame({'Injury': injury})\n",
    "injury_counts= injury_df.apply(pd.value_counts)\n",
    "\n",
    "injury_counts"
   ]
  },
  {
   "cell_type": "markdown",
   "metadata": {},
   "source": [
    "I find the fatality data interesting. I'm assuming the number in the parathensis most likely the number of fatal injuries but for the purpose of the analysis I'm going to group them into 3 groups: Non-Fatal, Fatal, and Incident. However, I'm not sure what incident is supposed to refer to either. \n",
    "\n",
    "Finally, I decided to examine at what point during flight the bird strikes were most likely to occur. "
   ]
  },
  {
   "cell_type": "code",
   "execution_count": 197,
   "metadata": {
    "collapsed": false
   },
   "outputs": [
    {
     "data": {
      "text/plain": [
       "<matplotlib.axes._subplots.AxesSubplot at 0x192fb3fd0>"
      ]
     },
     "execution_count": 197,
     "metadata": {},
     "output_type": "execute_result"
    },
    {
     "data": {
      "image/png": "[encoded data removed]",
      "text/plain": [
       "<matplotlib.figure.Figure at 0x192f9ccf8>"
      ]
     },
     "metadata": {},
     "output_type": "display_data"
    }
   ],
   "source": [
    "flight_phase = bird_df['@BroadPhaseOfFlight'].tolist()\n",
    "\n",
    "phase_df = pd.DataFrame({'Flight Phase': flight_phase})\n",
    "phase_counts= phase_df.apply(pd.value_counts)\n",
    "\n",
    "phase_counts.plot.bar()"
   ]
  }
 ],
 "metadata": {
  "kernelspec": {
   "display_name": "Python 3",
   "language": "python",
   "name": "python3"
  },
  "language_info": {
   "codemirror_mode": {
    "name": "ipython",
    "version": 3
   },
   "file_extension": ".py",
   "mimetype": "text/x-python",
   "name": "python",
   "nbconvert_exporter": "python",
   "pygments_lexer": "ipython3",
   "version": "3.5.1"
  }
 },
 "nbformat": 4,
 "nbformat_minor": 0
}
